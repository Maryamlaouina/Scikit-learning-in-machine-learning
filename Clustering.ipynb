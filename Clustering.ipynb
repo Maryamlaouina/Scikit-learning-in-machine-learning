{
  "cells": [
    {
      "cell_type": "code",
      "execution_count": 1,
      "metadata": {
        "id": "XRJeZFyqEDYf"
      },
      "outputs": [],
      "source": [
        "#Importer les librairies\n",
        "import pandas as pd\n",
        "import numpy as np\n",
        "import matplotlib.pyplot as plt\n",
        "from sklearn.cluster import KMeans\n",
        "from sklearn import datasets"
      ]
    },
    {
      "cell_type": "code",
      "execution_count": null,
      "metadata": {
        "id": "5Vtx2-0JeVNU"
      },
      "outputs": [],
      "source": [
        "#chargement de base de données iris\n",
        "iris = datasets.load_iris()\n"
      ]
    },
    {
      "cell_type": "code",
      "execution_count": null,
      "metadata": {
        "id": "Nxekt9WzehNu"
      },
      "outputs": [],
      "source": [
        "#affichage des données du datasets\n",
        "print(iris.feature_names)"
      ]
    },
    {
      "cell_type": "code",
      "execution_count": null,
      "metadata": {
        "id": "sOW0h3WSexqK"
      },
      "outputs": [],
      "source": [
        "#stocker les données en tant que DataFrame Pandas\n",
        "x = pd.DataFrame(iris.data)\n"
      ]
    },
    {
      "cell_type": "code",
      "execution_count": 9,
      "metadata": {
        "id": "mhyINdMMffmM"
      },
      "outputs": [],
      "source": [
        "#définir les noms de colonnes\n",
        "x.columns = ['Sepal_lenght','Sepal_width','Petal_length','Petal_witdth']\n",
        "y = pd.DataFrame(iris.target)\n",
        "y.columns = ['classe']"
      ]
    },
    {
      "cell_type": "code",
      "execution_count": null,
      "metadata": {
        "id": "dajIxw0HgZ38"
      },
      "outputs": [],
      "source": [
        "#Répartition du Datasets dans un scatter plot 2D\n",
        "plt.scatter(x.Petal_length,x.Petal_witdth)"
      ]
    },
    {
      "cell_type": "code",
      "execution_count": null,
      "metadata": {
        "id": "xA29U_Uigxcz"
      },
      "outputs": [],
      "source": [
        "#Visualiser les classes de notre dataset\n",
        "colorL = np.array(['green','red','blue'])\n",
        "plt.scatter(x.Petal_length , x.Petal_witdth , c = colorL[iris.target] , s=20)"
      ]
    },
    {
      "cell_type": "code",
      "execution_count": 18,
      "metadata": {
        "id": "jtZtrZTihlSL"
      },
      "outputs": [],
      "source": [
        "# Utiliser la méthode elbow pour trouver le nombre optimal de clusters \n",
        "inert = []\n",
        "for i in range(1,11):\n",
        "    kmeans = KMeans(n_clusters = i)\n",
        "    kmeans.fit(x)\n",
        "    inert.append(kmeans.inertia_)"
      ]
    },
    {
      "cell_type": "code",
      "execution_count": null,
      "metadata": {
        "id": "c_FWXXrciP-W"
      },
      "outputs": [],
      "source": [
        "#Afficher la courbe de la méthod Elbow\n",
        "plt.plot(range(1,11),inert)\n",
        "plt.title('La méthode Elbow')\n",
        "plt.xlabel('Nombre de clusters')\n",
        "plt.ylabel('inertia')\n",
        "plt.show()"
      ]
    },
    {
      "cell_type": "code",
      "execution_count": null,
      "metadata": {
        "id": "hBuZiK5fi37f"
      },
      "outputs": [],
      "source": [
        "#Cluster K-means\n",
        "model = KMeans(n_clusters = 3)\n",
        "model.fit(x)"
      ]
    },
    {
      "cell_type": "code",
      "execution_count": null,
      "metadata": {
        "id": "p5bKSGlAjIhQ"
      },
      "outputs": [],
      "source": [
        "model.labels_"
      ]
    },
    {
      "cell_type": "code",
      "execution_count": null,
      "metadata": {
        "id": "aJU4v_KxjNhh"
      },
      "outputs": [],
      "source": [
        "#Visualiser les classes prédites par le modèle\n",
        "colorL = np.array(['green','red','blue'])\n",
        "plt.scatter(x.Petal_length , x.Petal_witdth , c = colorL[model.labels_] , s=20)"
      ]
    },
    {
      "cell_type": "code",
      "execution_count": null,
      "metadata": {
        "id": "zM4mpIydj3u0"
      },
      "outputs": [],
      "source": [
        "#Visualiser les classes originales et prédites par le modèle\n",
        "fig, (ax1, ax2) = plt.subplots(1, 2,figsize=(10,3))\n",
        "fig.suptitle('classes originales et classes trouvées par le modèle')\n",
        "ax1.scatter(x.Petal_length, x.Petal_witdth, c=colorL[model.labels_], s=20)\n",
        "ax2.scatter(x.Petal_length, x.Petal_witdth, c=colorL[iris.target], s=20)"
      ]
    }
  ],
  "metadata": {
    "colab": {
      "provenance": []
    },
    "kernelspec": {
      "display_name": "Python 3",
      "name": "python3"
    },
    "language_info": {
      "name": "python"
    }
  },
  "nbformat": 4,
  "nbformat_minor": 0
}
