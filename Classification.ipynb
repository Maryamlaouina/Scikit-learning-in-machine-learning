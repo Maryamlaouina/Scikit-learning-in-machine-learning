{
  "nbformat": 4,
  "nbformat_minor": 0,
  "metadata": {
    "colab": {
      "provenance": []
    },
    "kernelspec": {
      "name": "python3",
      "display_name": "Python 3"
    },
    "language_info": {
      "name": "python"
    }
  },
  "cells": [
    {
      "cell_type": "markdown",
      "source": [
        "#Import Libraries\n"
      ],
      "metadata": {
        "id": "NAxdCD5TA1cD"
      }
    },
    {
      "cell_type": "code",
      "source": [
        "from sklearn.datasets import load_breast_cancer\n",
        "from sklearn.model_selection import train_test_split\n",
        "from sklearn.linear_model import LogisticRegression"
      ],
      "metadata": {
        "id": "-naZIl8WA2D1"
      },
      "execution_count": 1,
      "outputs": []
    },
    {
      "cell_type": "markdown",
      "source": [
        "#load breast cancer data\n"
      ],
      "metadata": {
        "id": "9MX-Ce4HA_GZ"
      }
    },
    {
      "cell_type": "code",
      "source": [
        "BreastData = load_breast_cancer()\n",
        "\n",
        "#X Data\n",
        "X = BreastData.data\n",
        "\n",
        "#y Data\n",
        "y = BreastData.target\n",
        "\n",
        "#X.shape\n",
        "#y.shape"
      ],
      "metadata": {
        "id": "7kcpLqq8BGV-"
      },
      "execution_count": 10,
      "outputs": []
    },
    {
      "cell_type": "markdown",
      "source": [
        "#Splitting data\n"
      ],
      "metadata": {
        "id": "XAMGprBECG9L"
      }
    },
    {
      "cell_type": "code",
      "source": [
        "X_train, X_test, y_train, y_test = train_test_split(X, y, test_size=0.33)\n"
      ],
      "metadata": {
        "id": "iR3UYYAYCH9P"
      },
      "execution_count": 11,
      "outputs": []
    },
    {
      "cell_type": "markdown",
      "source": [
        "#Applying LogisticRegression Model \n"
      ],
      "metadata": {
        "id": "VM_78p0fCXlm"
      }
    },
    {
      "cell_type": "code",
      "source": [
        "LogisticRegressionModel = LogisticRegression()\n",
        "LogisticRegressionModel.fit(X_train, y_train)"
      ],
      "metadata": {
        "id": "KuK2d9BrCY5q"
      },
      "execution_count": null,
      "outputs": []
    },
    {
      "cell_type": "markdown",
      "source": [
        "#Calculating Details\n"
      ],
      "metadata": {
        "id": "j4lDERyBCoaB"
      }
    },
    {
      "cell_type": "code",
      "source": [
        "print('LogisticRegressionModel Train Score is : ' , LogisticRegressionModel.score(X_train, y_train))\n",
        "print('LogisticRegressionModel Test Score is : ' , LogisticRegressionModel.score(X_test, y_test))\n",
        "print('LogisticRegressionModel Classes are : ' , LogisticRegressionModel.classes_)"
      ],
      "metadata": {
        "colab": {
          "base_uri": "https://localhost:8080/"
        },
        "id": "cktDexfACrHp",
        "outputId": "8934f992-fc1b-4f61-aa96-a8e0a8148c3d"
      },
      "execution_count": 16,
      "outputs": [
        {
          "output_type": "stream",
          "name": "stdout",
          "text": [
            "LogisticRegressionModel Train Score is :  0.94750656167979\n",
            "LogisticRegressionModel Test Score is :  0.9361702127659575\n",
            "LogisticRegressionModel Classes are :  [0 1]\n"
          ]
        }
      ]
    },
    {
      "cell_type": "markdown",
      "source": [
        "#Calculating Prediction\n"
      ],
      "metadata": {
        "id": "96ZygLZ8C5sM"
      }
    },
    {
      "cell_type": "code",
      "source": [
        "y_pred = LogisticRegressionModel.predict(X_test)\n",
        "print('Predicted Value for LogisticRegressionModel is : ' , y_pred[:10])"
      ],
      "metadata": {
        "colab": {
          "base_uri": "https://localhost:8080/"
        },
        "id": "J-2wsqsXC60I",
        "outputId": "0f8cc2e1-e1f6-47ed-ab36-607a01265a57"
      },
      "execution_count": 18,
      "outputs": [
        {
          "output_type": "stream",
          "name": "stdout",
          "text": [
            "Predicted Value for LogisticRegressionModel is :  [1 1 0 0 1 0 1 0 1 0]\n"
          ]
        }
      ]
    },
    {
      "cell_type": "markdown",
      "source": [
        "comparison\n"
      ],
      "metadata": {
        "id": "T9k0jVKJDPOv"
      }
    },
    {
      "cell_type": "code",
      "source": [
        "print('tested Value : ' , y_test[:10])\n"
      ],
      "metadata": {
        "colab": {
          "base_uri": "https://localhost:8080/"
        },
        "id": "zDU5FFW8DQFl",
        "outputId": "2ff44199-8fd9-45d9-fb73-fd6338df8927"
      },
      "execution_count": 19,
      "outputs": [
        {
          "output_type": "stream",
          "name": "stdout",
          "text": [
            "tested Value :  [1 1 0 0 1 0 1 0 1 0]\n"
          ]
        }
      ]
    }
  ]
}