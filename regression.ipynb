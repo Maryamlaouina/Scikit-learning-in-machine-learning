{
  "cells": [
    {
      "cell_type": "markdown",
      "metadata": {
        "id": "knt4UlNGy5RA"
      },
      "source": [
        "#Import Libraries\n"
      ]
    },
    {
      "cell_type": "code",
      "execution_count": 1,
      "metadata": {
        "id": "dfVgN0LLzBYy"
      },
      "outputs": [],
      "source": [
        "from sklearn.datasets import load_boston\n",
        "from sklearn.model_selection import train_test_split\n",
        "from sklearn.linear_model import LinearRegression"
      ]
    },
    {
      "cell_type": "markdown",
      "metadata": {
        "id": "bwi-juj-zD8f"
      },
      "source": [
        "#load boston data"
      ]
    },
    {
      "cell_type": "code",
      "execution_count": 15,
      "metadata": {
        "id": "0i8KjrS7zLWT"
      },
      "outputs": [],
      "source": [
        "#load boston data\n",
        "\n",
        "BostonData = load_boston()\n",
        "\n",
        "#X Data\n",
        "X = BostonData.data\n",
        "\n",
        "#y Data\n",
        "y = BostonData.target\n"
      ]
    },
    {
      "cell_type": "markdown",
      "metadata": {
        "id": "DlUOGa_u41p4"
      },
      "source": [
        "#Splitting data"
      ]
    },
    {
      "cell_type": "code",
      "execution_count": 16,
      "metadata": {
        "id": "U1rkJlB442gU"
      },
      "outputs": [],
      "source": [
        "X_train, X_test, y_train, y_test = train_test_split(X, y, test_size=0.33)\n"
      ]
    },
    {
      "cell_type": "markdown",
      "metadata": {
        "id": "AkGAZYig5EsH"
      },
      "source": [
        "#Applying Linear Regression Model \n"
      ]
    },
    {
      "cell_type": "code",
      "execution_count": 17,
      "metadata": {
        "colab": {
          "base_uri": "https://localhost:8080/"
        },
        "id": "tGJ1uIlZ5Fgi",
        "outputId": "d08d626a-6c5f-4126-e9df-e2c1c6b2525d"
      },
      "outputs": [
        {
          "data": {
            "text/plain": [
              "LinearRegression()"
            ]
          },
          "execution_count": 17,
          "metadata": {},
          "output_type": "execute_result"
        }
      ],
      "source": [
        "LinearRegressionModel = LinearRegression()\n",
        "LinearRegressionModel.fit(X_train, y_train)"
      ]
    },
    {
      "cell_type": "markdown",
      "metadata": {
        "id": "JAF8o7Cb5Zxu"
      },
      "source": [
        "#Calculating Details\n"
      ]
    },
    {
      "cell_type": "code",
      "execution_count": 18,
      "metadata": {
        "colab": {
          "base_uri": "https://localhost:8080/"
        },
        "id": "waDL5PKL5byF",
        "outputId": "897dd91e-73cd-4972-da73-a3cab187a02b"
      },
      "outputs": [
        {
          "name": "stdout",
          "output_type": "stream",
          "text": [
            "Linear Regression Train Score is :  0.789851402540239\n",
            "Linear Regression Test Score is :  0.5912709308412055\n",
            "Linear Regression Coef is :  [-6.51001585e-02  4.03311018e-02  4.26435550e-02  3.01892388e+00\n",
            " -1.60476474e+01  5.27017393e+00 -6.82498391e-03 -1.19337236e+00\n",
            "  2.47955938e-01 -1.31362344e-02 -9.34803684e-01  1.23322211e-02\n",
            " -3.80702225e-01]\n",
            "Linear Regression intercept is :  22.796445452351712\n"
          ]
        }
      ],
      "source": [
        "print('Linear Regression Train Score is : ' , LinearRegressionModel.score(X_train, y_train))\n",
        "print('Linear Regression Test Score is : ' , LinearRegressionModel.score(X_test, y_test))"
      ]
    },
    {
      "cell_type": "markdown",
      "metadata": {
        "id": "EYvzh78Z51rb"
      },
      "source": [
        "#Calculating Prediction\n"
      ]
    },
    {
      "cell_type": "code",
      "execution_count": 19,
      "metadata": {
        "colab": {
          "base_uri": "https://localhost:8080/"
        },
        "id": "nhfh2MA555BB",
        "outputId": "48f8a1e9-a822-4906-9339-d61bd23b16f6"
      },
      "outputs": [
        {
          "name": "stdout",
          "output_type": "stream",
          "text": [
            "Predicted Value for Linear Regression is :  [15.28395616 14.07896843 22.72946182 19.53064215 22.22244747 22.60245401\n",
            " 18.75253321 12.13303096 15.1996905  18.06135176]\n"
          ]
        }
      ],
      "source": [
        "y_pred = LinearRegressionModel.predict(X_test)\n",
        "print('Predicted Value for Linear Regression is : ' , y_pred[:10])"
      ]
    },
    {
      "cell_type": "markdown",
      "metadata": {
        "id": "_SL_3lod6GXd"
      },
      "source": [
        "#comparison"
      ]
    },
    {
      "cell_type": "code",
      "execution_count": 20,
      "metadata": {
        "colab": {
          "base_uri": "https://localhost:8080/"
        },
        "id": "XxhVht916IY_",
        "outputId": "a0428fd7-8a1d-402f-9cd1-972cf0b187ef"
      },
      "outputs": [
        {
          "name": "stdout",
          "output_type": "stream",
          "text": [
            "tested Value :  [18.4 13.1 50.  19.4 19.8 20.3 50.  21.9 20.8 22.5]\n"
          ]
        }
      ],
      "source": [
        "print('tested Value : ' , y_test[:10])"
      ]
    }
  ],
  "metadata": {
    "colab": {
      "provenance": []
    },
    "kernelspec": {
      "display_name": "Python 3",
      "name": "python3"
    },
    "language_info": {
      "name": "python"
    }
  },
  "nbformat": 4,
  "nbformat_minor": 0
}
